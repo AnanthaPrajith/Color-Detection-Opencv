{
 "cells": [
  {
   "cell_type": "code",
   "execution_count": 1,
   "metadata": {},
   "outputs": [],
   "source": [
    "import cv2 as cv\n",
    "import pandas as pd\n",
    "\n",
    "img='flower.jpg'\n",
    "csv='colors.csv'\n",
    "index=[\"color\",\"color_name\",\"hex\",\"R\",\"G\",\"B\"]\n",
    "df=pd.read_csv(csv,names=index,header=None)\n",
    "img = cv.imread(img)\n",
    "clicked = False\n",
    "r=g=b=xpos=ypos=0\n",
    "def get (R,G,B):\n",
    "    minimum=100000000\n",
    "    for i in range (len(df)):\n",
    "        r= abs(R-int(df.loc[i,\"R\"]))+ abs(G-int(df.loc[i,\"G\"]))+ abs(B-int(df.loc[i,\"B\"]))\n",
    "        if (r <=minimum):\n",
    "            minimum=r\n",
    "            name=df.loc[i,\"color_name\"]\n",
    "    return name\n"
   ]
  },
  {
   "cell_type": "code",
   "execution_count": 2,
   "metadata": {},
   "outputs": [],
   "source": [
    "def draw(event,x,y,flags,params):\n",
    "    if event==cv.EVENT_LBUTTONDBLCLK:\n",
    "        global b,g,r,xpos,ypos,clicked\n",
    "        clicked=True\n",
    "        xpos=x\n",
    "        ypos=y\n",
    "        b,g,r=img[y,x]\n",
    "        b=int(b)\n",
    "        g=int(g)\n",
    "        r=int(r)\n",
    "cv.namedWindow(\"Output\")\n",
    "cv.setMouseCallback(\"Output\",draw)"
   ]
  },
  {
   "cell_type": "code",
   "execution_count": null,
   "metadata": {},
   "outputs": [],
   "source": [
    "while True:\n",
    "    cv.imshow(\"Output\",img)\n",
    "    if clicked:\n",
    "        cv.rectangle(img,(15,15),(650,60),(b,g,r),-1)\n",
    "        text=get(r,g,b)+' R='+str(r)+'G='+str(g)+'B='+str(b)\n",
    "        cv.putText(img,text,(30,30),2,0.8,(255,255,255),2,cv.LINE_AA)\n",
    "        if r+g+b>=600:\n",
    "            cv.putText(img,text,(40,40),2,0.8,(0,0,0),2,cv.LINE_AA)\n",
    "    if cv.waitKey(20) & 0xFF == ord('q'):\n",
    "        break\n",
    "cv.destroyAllWindows()"
   ]
  },
  {
   "cell_type": "code",
   "execution_count": null,
   "metadata": {},
   "outputs": [],
   "source": []
  },
  {
   "cell_type": "code",
   "execution_count": null,
   "metadata": {},
   "outputs": [],
   "source": []
  }
 ],
 "metadata": {
  "kernelspec": {
   "display_name": "Python 3",
   "language": "python",
   "name": "python3"
  },
  "language_info": {
   "codemirror_mode": {
    "name": "ipython",
    "version": 3
   },
   "file_extension": ".py",
   "mimetype": "text/x-python",
   "name": "python",
   "nbconvert_exporter": "python",
   "pygments_lexer": "ipython3",
   "version": "3.8.2"
  }
 },
 "nbformat": 4,
 "nbformat_minor": 4
}
